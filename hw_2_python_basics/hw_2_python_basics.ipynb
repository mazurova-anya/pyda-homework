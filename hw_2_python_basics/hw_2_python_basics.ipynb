{
 "cells": [
  {
   "cell_type": "code",
   "execution_count": 2,
   "metadata": {},
   "outputs": [
    {
     "name": "stdout",
     "output_type": "stream",
     "text": [
      "False\n"
     ]
    }
   ],
   "source": [
    "# Задание 1\n",
    "\n",
    "long_phrase = 'Насколько проще было бы писать программы, если бы не заказчики'\n",
    "short_phrase = '640Кб должно хватить для любых задач. Билл Гейтс (по легенде)'\n",
    "\n",
    "if len (long_phrase) > len (short_phrase):\n",
    "    print ('True')\n",
    "else: \n",
    "    print ('False')\n"
   ]
  },
  {
   "cell_type": "code",
   "execution_count": 12,
   "metadata": {},
   "outputs": [
    {
     "name": "stdout",
     "output_type": "stream",
     "text": [
      "Введите значение в байтах 20000\n",
      "Объем файла равен  0.019073486328125 Mb\n"
     ]
    }
   ],
   "source": [
    "# Задание 2\n",
    "\n",
    "user_input = int(input ('Введите значение в байтах '))\n",
    "a = user_input / 2**20\n",
    "print ('Объем файла равен ', a,'Mb')\n"
   ]
  },
  {
   "cell_type": "code",
   "execution_count": 2,
   "metadata": {},
   "outputs": [
    {
     "name": "stdout",
     "output_type": "stream",
     "text": [
      "Введите месяц: март\n",
      "Введите число: 30\n",
      "Овен\n"
     ]
    }
   ],
   "source": [
    "# Задание 3 / 1-й вариант\n",
    "\n",
    "user_input_month = input('Введите месяц: ')\n",
    "user_input_date = int(input ('Введите число: '))\n",
    "\n",
    "if user_input_date >= 32 or user_input_date <= 0:\n",
    "    print ('Неверная дата')\n",
    "elif user_input_month == ('январь'): \n",
    "    if 1 <= user_input_date <= 20 :\n",
    "        print ('Козерог')\n",
    "    elif 21 <= user_input_date <= 31:\n",
    "        print ('Водолей')\n",
    "elif user_input_month == ('февраль'): \n",
    "    if 1 <= user_input_date <= 20:\n",
    "        print ('Водолей')\n",
    "    elif 21 <= user_input_date <= 29:\n",
    "        print ('Рыбы')\n",
    "elif user_input_month == ('март'):\n",
    "    if 1 <= user_input_date <= 20:\n",
    "        print ('Рыбы')\n",
    "    elif 21 <= user_input_date <= 31:\n",
    "        print ('Овен')\n",
    "elif user_input_month == ('апрель'):\n",
    "    if 1 <= user_input_date <= 20:\n",
    "        print ('Овен')\n",
    "    elif 21 <= user_input_date <= 30:\n",
    "        print ('Телец')\n",
    "elif user_input_month == ('май'):\n",
    "    if 1 <= user_input_date <= 20:\n",
    "        print ('Телец')\n",
    "    elif 21 <= user_input_date <= 31:\n",
    "        print ('Близнецы')\n",
    "elif user_input_month == ('июнь'):\n",
    "    if 1 <= user_input_date <= 21:\n",
    "        print ('Близнецы')\n",
    "    elif 22 <= user_input_date <= 30:\n",
    "        print ('Рак')\n",
    "elif user_input_month == ('июль'):\n",
    "    if 1 <= user_input_date <= 22:\n",
    "        print ('Рак')\n",
    "    elif 23 <= user_input_date <= 31:\n",
    "        print ('Лев')\n",
    "elif user_input_month == ('август'):\n",
    "    if 1 <= user_input_date <= 23:\n",
    "        print ('Лев')\n",
    "    elif 24 <= user_input_date <= 31:\n",
    "        print ('Дева')\n",
    "elif user_input_month == ('сентябрь'):\n",
    "    if 1 <= user_input_date <= 23:\n",
    "        print ('Дева')\n",
    "    elif 24 <= user_input_date <= 30:\n",
    "        print ('Весы')\n",
    "elif user_input_month == ('октябрь'):\n",
    "    if 1 <= user_input_date <= 23:\n",
    "        print ('Весы')\n",
    "    elif 24 <= user_input_date <= 31:\n",
    "        print ('Скорпион')\n",
    "elif user_input_month == ('ноябрь'):\n",
    "    if 1 <= user_input_date <= 22:\n",
    "        print ('Скорпион')\n",
    "    elif 23 <= user_input_date <= 30:\n",
    "        print ('Стрелец')\n",
    "else:\n",
    "    if user_input_month == ('декабрь'):\n",
    "        if 1 <= user_input_date <= 21:\n",
    "            print ('Стрелец')\n",
    "        elif 22 <= user_input_date <= 31:\n",
    "            print ('Козерог')"
   ]
  },
  {
   "cell_type": "code",
   "execution_count": 6,
   "metadata": {},
   "outputs": [
    {
     "name": "stdout",
     "output_type": "stream",
     "text": [
      "Введите месяц: январь\n",
      "Введите число: 31\n",
      "Водолей\n"
     ]
    }
   ],
   "source": [
    "# Задание 3 / 2-й вариант\n",
    "\n",
    "user_input_month = input('Введите месяц: ')\n",
    "user_input_date = int(input ('Введите число: '))\n",
    "\n",
    "if user_input_date >= 32 or user_input_date <= 0:\n",
    "    print ('Неверная дата')\n",
    "elif user_input_month == ('декабрь') and user_input_date >= 22 or user_input_month == ('январь') and user_input_date <= 20:\n",
    "    print ('Козерог')\n",
    "elif user_input_month == ('январь') and user_input_date >= 21 or user_input_month == ('февраль') and user_input_date <= 20:\n",
    "    print ('Водолей')\n",
    "elif user_input_month == ('февраль') and user_input_date >= 21 or user_input_month == ('март') and user_input_date <= 21:\n",
    "    print ('Рыбы')\n",
    "elif user_input_month == ('март') and user_input_date >= 21 or user_input_month == ('апрель') and user_input_date <= 20:\n",
    "     print ('Овен')\n",
    "elif user_input_month == ('апрель') and user_input_date >= 21 or user_input_month == ('май') and user_input_date <= 20:\n",
    "     print ('Телец')\n",
    "elif user_input_month == ('май') and user_input_date >= 21 or user_input_month == ('июнь') and user_input_date <= 21:\n",
    "     print ('Близнецы')\n",
    "elif user_input_month == ('июнь') and user_input_date >= 22 or user_input_month == ('июль') and user_input_date <= 22:\n",
    "     print ('Рак')\n",
    "elif user_input_month == ('июль') and user_input_date >= 23 or user_input_month == ('август') and user_input_date <= 23:\n",
    "     print ('Лев')\n",
    "elif user_input_month == ('август') and user_input_date >= 24 or user_input_month == ('сентябрь') and user_input_date <= 23:\n",
    "     print ('Дева')\n",
    "elif user_input_month == ('сентябрь') and user_input_date >= 24 or user_input_month == ('октябрь') and user_input_date <= 23:\n",
    "     print ('Весы')\n",
    "elif user_input_month == ('октябрь') and user_input_date >= 24 or user_input_month == ('октябрь') and user_input_date <= 22:\n",
    "     print ('Скорпион')\n",
    "else:\n",
    "    if user_input_month == ('ноябрь') and user_input_date >= 23 or user_input_month == ('декабрь') and user_input_date <= 21:\n",
    "        print ('Скорпион')"
   ]
  },
  {
   "cell_type": "code",
   "execution_count": 4,
   "metadata": {},
   "outputs": [
    {
     "name": "stdout",
     "output_type": "stream",
     "text": [
      "Введите заработанную плату в месяц: 138000\n",
      "Введите сколько процентов уходит на ипотеку: 20\n",
      "Введите сколько процентов уходит на жизнь: 50\n",
      "Введите количество премий за год: 1\n",
      "На ипотеку было потрачено:  331200.0 рублей Было накоплено:  565800.0 рублей\n"
     ]
    }
   ],
   "source": [
    "# Задание 4\n",
    "\n",
    "m_salary = int (input ('Введите заработанную плату в месяц: '))\n",
    "y_salary = m_salary * 12\n",
    "y_mortgage = int (input ('Введите сколько процентов уходит на ипотеку: ')) / 100 * m_salary * 12\n",
    "y_life = int (input ('Введите сколько процентов уходит на жизнь: ')) / 100 * y_salary\n",
    "y_bonus = int (input ('Введите количество премий за год: ')) * m_salary / 2\n",
    "y_savings = y_bonus + (y_salary - y_mortgage - y_life)\n",
    "\n",
    "print ('На ипотеку было потрачено: ', y_mortgage, 'рублей Было накоплено: ', y_savings, 'рублей')"
   ]
  }
 ],
 "metadata": {
  "kernelspec": {
   "display_name": "Python 3",
   "language": "python",
   "name": "python3"
  },
  "language_info": {
   "codemirror_mode": {
    "name": "ipython",
    "version": 3
   },
   "file_extension": ".py",
   "mimetype": "text/x-python",
   "name": "python",
   "nbconvert_exporter": "python",
   "pygments_lexer": "ipython3",
   "version": "3.7.6"
  }
 },
 "nbformat": 4,
 "nbformat_minor": 4
}
